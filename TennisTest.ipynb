{
 "cells": [
  {
   "cell_type": "code",
   "execution_count": 1,
   "metadata": {},
   "outputs": [],
   "source": [
    "from unityagents import UnityEnvironment\n",
    "import numpy as np\n",
    "from collections import deque\n",
    "import matplotlib.pyplot as plt\n",
    "\n",
    "from MADDPG import MADDPG\n",
    "\n",
    "seed = 4"
   ]
  },
  {
   "cell_type": "code",
   "execution_count": 2,
   "metadata": {
    "scrolled": true
   },
   "outputs": [
    {
     "name": "stderr",
     "output_type": "stream",
     "text": [
      "INFO:unityagents:\n",
      "'Academy' started successfully!\n",
      "Unity Academy name: Academy\n",
      "        Number of Brains: 1\n",
      "        Number of External Brains : 1\n",
      "        Lesson number : 0\n",
      "        Reset Parameters :\n",
      "\t\t\n",
      "Unity brain name: TennisBrain\n",
      "        Number of Visual Observations (per agent): 0\n",
      "        Vector Observation space type: continuous\n",
      "        Vector Observation space size (per agent): 8\n",
      "        Number of stacked Vector Observation: 3\n",
      "        Vector Action space type: continuous\n",
      "        Vector Action space size (per agent): 2\n",
      "        Vector Action descriptions: , \n"
     ]
    }
   ],
   "source": [
    "env = UnityEnvironment(file_name=\"Tennis\", seed=seed, worker_id=3)\n",
    "\n",
    "# get the default brain\n",
    "brain_name = env.brain_names[0]\n",
    "brain = env.brains[brain_name]"
   ]
  },
  {
   "cell_type": "code",
   "execution_count": 5,
   "metadata": {},
   "outputs": [
    {
     "name": "stdout",
     "output_type": "stream",
     "text": [
      "Number of agents: 2\n",
      "Size of each action: 2\n",
      "There are 2 agents. Each observes a state with length: 24\n",
      "The state for the first agent looks like: [ 0.          0.          0.          0.          0.          0.\n",
      "  0.          0.          0.          0.          0.          0.\n",
      "  0.          0.          0.          0.         -6.5625515  -1.5\n",
      " -0.          0.         -7.51403332  6.         -0.          0.        ]\n"
     ]
    },
    {
     "data": {
      "text/plain": [
       "[0.0, 0.0]"
      ]
     },
     "execution_count": 5,
     "metadata": {},
     "output_type": "execute_result"
    }
   ],
   "source": [
    "# reset the environment\n",
    "env_info = env.reset(train_mode=True)[brain_name]\n",
    "\n",
    "# number of agents \n",
    "num_agents = len(env_info.agents)\n",
    "print('Number of agents:', num_agents)\n",
    "\n",
    "# size of each action\n",
    "action_size = brain.vector_action_space_size\n",
    "print('Size of each action:', action_size)\n",
    "\n",
    "# examine the state space \n",
    "states = env_info.vector_observations\n",
    "state_size = states.shape[1]\n",
    "print('There are {} agents. Each observes a state with length: {}'.format(states.shape[0], state_size))\n",
    "print('The state for the first agent looks like:', states[0])\n",
    "env_info.rewards"
   ]
  },
  {
   "cell_type": "code",
   "execution_count": 10,
   "metadata": {},
   "outputs": [
    {
     "name": "stdout",
     "output_type": "stream",
     "text": [
      "Score (max over agents) from episode 1: 0.6000000089406967\n",
      "Score (max over agents) from episode 2: 0.10000000149011612\n",
      "Score (max over agents) from episode 3: 1.1000000163912773\n",
      "Score (max over agents) from episode 4: 0.30000000447034836\n",
      "Score (max over agents) from episode 5: 2.1000000312924385\n",
      "Score (max over agents) from episode 6: 1.600000023841858\n",
      "Score (max over agents) from episode 7: 0.7000000104308128\n",
      "Score (max over agents) from episode 8: 0.800000011920929\n",
      "Score (max over agents) from episode 9: 0.5000000074505806\n",
      "Score (max over agents) from episode 10: 1.1000000163912773\n",
      "Score (max over agents) from episode 11: 1.4000000208616257\n",
      "Score (max over agents) from episode 12: 0.5000000074505806\n",
      "Score (max over agents) from episode 13: 0.4000000059604645\n",
      "Score (max over agents) from episode 14: 0.5000000074505806\n",
      "Score (max over agents) from episode 15: 0.0\n",
      "Score (max over agents) from episode 16: 0.30000000447034836\n",
      "Score (max over agents) from episode 17: 0.7000000104308128\n",
      "Score (max over agents) from episode 18: 0.0\n",
      "Score (max over agents) from episode 19: 0.10000000149011612\n"
     ]
    }
   ],
   "source": [
    "agents = MADDPG(num_agents, state_size, action_size, seed)\n",
    "agents.load()\n",
    "\n",
    "for i in range(1, 20):                                      # play game for 5 episodes\n",
    "    env_info = env.reset(train_mode=True)[brain_name]  # reset the environment\n",
    "    states = np.reshape(env_info.vector_observations, (1, num_agents * state_size))  # flatten states\n",
    "    agents.reset()\n",
    "    scores = np.zeros(num_agents)          # initialize the score (for each agent)\n",
    "    while True:\n",
    "        actions = agents.act(states, False)  # choose agent actions and flatten them\n",
    "        env_info = env.step(actions)[brain_name]  # send both agents' actions to the environment\n",
    "        next_states = np.reshape(env_info.vector_observations, (1, num_agents * state_size))  # flatten next states\n",
    "        rewards = env_info.rewards  # get rewards\n",
    "        done = env_info.local_done  # see if the episode finished\n",
    "        scores += np.max(rewards)  # update scores with best reward\n",
    "        states = next_states  # roll over states to next time step\n",
    "        if np.any(done):  # exit loop if episode finished\n",
    "            break\n",
    "    print('Score (max over agents) from episode {}: {}'.format(i, np.max(scores)))"
   ]
  },
  {
   "cell_type": "code",
   "execution_count": null,
   "metadata": {},
   "outputs": [],
   "source": []
  }
 ],
 "metadata": {
  "kernelspec": {
   "display_name": "drlnd",
   "language": "python",
   "name": "drlnd"
  },
  "language_info": {
   "codemirror_mode": {
    "name": "ipython",
    "version": 3
   },
   "file_extension": ".py",
   "mimetype": "text/x-python",
   "name": "python",
   "nbconvert_exporter": "python",
   "pygments_lexer": "ipython3",
   "version": "3.6.10"
  }
 },
 "nbformat": 4,
 "nbformat_minor": 4
}
