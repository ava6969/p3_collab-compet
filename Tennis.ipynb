{
 "cells": [
  {
   "cell_type": "markdown",
   "metadata": {},
   "source": [
    "# Collaboration and Competition\n",
    "\n",
    "---\n",
    "\n",
    "In this notebook, you will learn how to use the Unity ML-Agents environment for the third project of the [Deep Reinforcement Learning Nanodegree](https://www.udacity.com/course/deep-reinforcement-learning-nanodegree--nd893) program.\n",
    "\n",
    "### 1. Start the Environment\n",
    "\n",
    "We begin by importing the necessary packages.  If the code cell below returns an error, please revisit the project instructions to double-check that you have installed [Unity ML-Agents](https://github.com/Unity-Technologies/ml-agents/blob/master/docs/Installation.md) and [NumPy](http://www.numpy.org/)."
   ]
  },
  {
   "cell_type": "code",
   "execution_count": 1,
   "metadata": {},
   "outputs": [],
   "source": [
    "from unityagents import UnityEnvironment\n",
    "import numpy as np\n",
    "from collections import deque\n",
    "import matplotlib.pyplot as plt\n",
    "\n",
    "from MADDPG import MADDPG\n",
    "\n",
    "seed = 4"
   ]
  },
  {
   "cell_type": "markdown",
   "metadata": {},
   "source": [
    "Next, we will start the environment!  **_Before running the code cell below_**, change the `file_name` parameter to match the location of the Unity environment that you downloaded.\n",
    "\n",
    "- **Mac**: `\"path/to/Tennis.app\"`\n",
    "- **Windows** (x86): `\"path/to/Tennis_Windows_x86/Tennis.exe\"`\n",
    "- **Windows** (x86_64): `\"path/to/Tennis_Windows_x86_64/Tennis.exe\"`\n",
    "- **Linux** (x86): `\"path/to/Tennis_Linux/Tennis.x86\"`\n",
    "- **Linux** (x86_64): `\"path/to/Tennis_Linux/Tennis.x86_64\"`\n",
    "- **Linux** (x86, headless): `\"path/to/Tennis_Linux_NoVis/Tennis.x86\"`\n",
    "- **Linux** (x86_64, headless): `\"path/to/Tennis_Linux_NoVis/Tennis.x86_64\"`\n",
    "\n",
    "For instance, if you are using a Mac, then you downloaded `Tennis.app`.  If this file is in the same folder as the notebook, then the line below should appear as follows:\n",
    "```\n",
    "env = UnityEnvironment(file_name=\"Tennis.app\")\n",
    "```"
   ]
  },
  {
   "cell_type": "code",
   "execution_count": 2,
   "metadata": {},
   "outputs": [
    {
     "name": "stderr",
     "output_type": "stream",
     "text": [
      "INFO:unityagents:\n",
      "'Academy' started successfully!\n",
      "Unity Academy name: Academy\n",
      "        Number of Brains: 1\n",
      "        Number of External Brains : 1\n",
      "        Lesson number : 0\n",
      "        Reset Parameters :\n",
      "\t\t\n",
      "Unity brain name: TennisBrain\n",
      "        Number of Visual Observations (per agent): 0\n",
      "        Vector Observation space type: continuous\n",
      "        Vector Observation space size (per agent): 8\n",
      "        Number of stacked Vector Observation: 3\n",
      "        Vector Action space type: continuous\n",
      "        Vector Action space size (per agent): 2\n",
      "        Vector Action descriptions: , \n"
     ]
    }
   ],
   "source": [
    "env = UnityEnvironment(file_name=\"Tennis\", seed=seed, worker_id=3)"
   ]
  },
  {
   "cell_type": "markdown",
   "metadata": {},
   "source": [
    "Environments contain **_brains_** which are responsible for deciding the actions of their associated agents. Here we check for the first brain available, and set it as the default brain we will be controlling from Python."
   ]
  },
  {
   "cell_type": "code",
   "execution_count": 3,
   "metadata": {},
   "outputs": [],
   "source": [
    "# get the default brain\n",
    "brain_name = env.brain_names[0]\n",
    "brain = env.brains[brain_name]"
   ]
  },
  {
   "cell_type": "markdown",
   "metadata": {},
   "source": [
    "### 2. Examine the State and Action Spaces\n",
    "\n",
    "In this environment, two agents control rackets to bounce a ball over a net. If an agent hits the ball over the net, it receives a reward of +0.1.  If an agent lets a ball hit the ground or hits the ball out of bounds, it receives a reward of -0.01.  Thus, the goal of each agent is to keep the ball in play.\n",
    "\n",
    "The observation space consists of 8 variables corresponding to the position and velocity of the ball and racket. Two continuous actions are available, corresponding to movement toward (or away from) the net, and jumping. \n",
    "\n",
    "Run the code cell below to print some information about the environment."
   ]
  },
  {
   "cell_type": "code",
   "execution_count": 4,
   "metadata": {},
   "outputs": [
    {
     "name": "stdout",
     "output_type": "stream",
     "text": [
      "Number of agents: 2\n",
      "Size of each action: 2\n",
      "There are 2 agents. Each observes a state with length: 24\n",
      "The state for the first agent looks like: [ 0.          0.          0.          0.          0.          0.\n",
      "  0.          0.          0.          0.          0.          0.\n",
      "  0.          0.          0.          0.         -6.5625515  -1.5\n",
      " -0.          0.         -7.51403332  6.         -0.          0.        ]\n"
     ]
    },
    {
     "data": {
      "text/plain": [
       "[0.0, 0.0]"
      ]
     },
     "execution_count": 4,
     "metadata": {},
     "output_type": "execute_result"
    }
   ],
   "source": [
    "# reset the environment\n",
    "env_info = env.reset(train_mode=True)[brain_name]\n",
    "\n",
    "# number of agents \n",
    "num_agents = len(env_info.agents)\n",
    "print('Number of agents:', num_agents)\n",
    "\n",
    "# size of each action\n",
    "action_size = brain.vector_action_space_size\n",
    "print('Size of each action:', action_size)\n",
    "\n",
    "# examine the state space \n",
    "states = env_info.vector_observations\n",
    "state_size = states.shape[1]\n",
    "print('There are {} agents. Each observes a state with length: {}'.format(states.shape[0], state_size))\n",
    "print('The state for the first agent looks like:', states[0])\n",
    "env_info.rewards"
   ]
  },
  {
   "cell_type": "markdown",
   "metadata": {},
   "source": [
    "### 3. Take Random Actions in the Environment\n",
    "\n",
    "In the next code cell, you will learn how to use the Python API to control the agents and receive feedback from the environment.\n",
    "\n",
    "Once this cell is executed, you will watch the agents' performance, if they select actions at random with each time step.  A window should pop up that allows you to observe the agents.\n",
    "\n",
    "Of course, as part of the project, you'll have to change the code so that the agents are able to use their experiences to gradually choose better actions when interacting with the environment!"
   ]
  },
  {
   "cell_type": "code",
   "execution_count": 5,
   "metadata": {},
   "outputs": [
    {
     "name": "stdout",
     "output_type": "stream",
     "text": [
      "Score (max over agents) from episode 1: 0.0\n",
      "Score (max over agents) from episode 2: 0.0\n",
      "Score (max over agents) from episode 3: 0.0\n",
      "Score (max over agents) from episode 4: 0.0\n",
      "Score (max over agents) from episode 5: 0.0\n"
     ]
    }
   ],
   "source": [
    "for i in range(1, 6):                                      # play game for 5 episodes\n",
    "    env_info = env.reset(train_mode=False)[brain_name]     # reset the environment    \n",
    "    states = env_info.vector_observations                  # get the current state (for each agent)\n",
    "    scores = np.zeros(num_agents)                          # initialize the score (for each agent)\n",
    "    while True:\n",
    "        actions = np.random.randn(num_agents, action_size) # select an action (for each agent)\n",
    "        actions = np.clip(actions, -1, 1)                  # all actions between -1 and 1\n",
    "        env_info = env.step(actions)[brain_name]           # send all actions to tne environment\n",
    "        next_states = env_info.vector_observations         # get next state (for each agent)\n",
    "        rewards = env_info.rewards                         # get reward (for each agent)\n",
    "        dones = env_info.local_done                        # see if episode finished\n",
    "        scores += env_info.rewards                         # update the score (for each agent)\n",
    "        states = next_states                               # roll over states to next time step\n",
    "        if np.any(dones):                                  # exit loop if episode finished\n",
    "            break\n",
    "    print('Score (max over agents) from episode {}: {}'.format(i, np.max(scores)))"
   ]
  },
  {
   "cell_type": "code",
   "execution_count": 6,
   "metadata": {},
   "outputs": [],
   "source": [
    "MAX_EPISODES = 5000\n",
    "SOLVED_SCORE = 0.5    # FOR TESTING ONLY - should be 0.5\n",
    "WINDOW_SIZE = 100       # FOR TESTING ONLY - should be 100\n",
    "PRINT_EVERY = 10\n",
    "ADD_NOISE = True\n",
    "STOP_IF_NO_IMPROVEMENT_OVER_EPISODES = 300\n",
    "RAND_SEED = 6\n",
    "\n",
    "agents = MADDPG(num_agents, state_size, action_size, seed)\n",
    "agents.load()"
   ]
  },
  {
   "cell_type": "code",
   "execution_count": 7,
   "metadata": {},
   "outputs": [
    {
     "name": "stdout",
     "output_type": "stream",
     "text": [
      "New best score found on episode 3; score = 0.100\n",
      "Episodes 0000-0010\tMax Reward: 0.100\tMoving Average: 0.010\n",
      "Episodes 0010-0020\tMax Reward: 0.000\tMoving Average: 0.005\n",
      "Episodes 0020-0030\tMax Reward: 0.100\tMoving Average: 0.007\n",
      "Episodes 0030-0040\tMax Reward: 0.100\tMoving Average: 0.010\n",
      "New best score found on episode 43; score = 0.200\n",
      "Episodes 0040-0050\tMax Reward: 0.200\tMoving Average: 0.018\n",
      "Episodes 0050-0060\tMax Reward: 0.100\tMoving Average: 0.018\n",
      "Episodes 0060-0070\tMax Reward: 0.100\tMoving Average: 0.017\n",
      "New best score found on episode 72; score = 0.300\n",
      "Episodes 0070-0080\tMax Reward: 0.300\tMoving Average: 0.023\n",
      "Episodes 0080-0090\tMax Reward: 0.000\tMoving Average: 0.020\n",
      "Episodes 0090-0100\tMax Reward: 0.000\tMoving Average: 0.018\n",
      "Episodes 0100-0110\tMax Reward: 0.100\tMoving Average: 0.018\n",
      "Episodes 0110-0120\tMax Reward: 0.100\tMoving Average: 0.020\n",
      "Episodes 0120-0130\tMax Reward: 0.200\tMoving Average: 0.021\n",
      "Episodes 0130-0140\tMax Reward: 0.100\tMoving Average: 0.022\n",
      "Episodes 0140-0150\tMax Reward: 0.200\tMoving Average: 0.020\n",
      "Episodes 0150-0160\tMax Reward: 0.200\tMoving Average: 0.024\n",
      "Episodes 0160-0170\tMax Reward: 0.100\tMoving Average: 0.027\n",
      "Episodes 0170-0180\tMax Reward: 0.100\tMoving Average: 0.023\n",
      "Episodes 0180-0190\tMax Reward: 0.100\tMoving Average: 0.028\n",
      "Episodes 0190-0200\tMax Reward: 0.100\tMoving Average: 0.030\n",
      "Episodes 0200-0210\tMax Reward: 0.100\tMoving Average: 0.031\n",
      "Episodes 0210-0220\tMax Reward: 0.100\tMoving Average: 0.035\n",
      "Episodes 0220-0230\tMax Reward: 0.200\tMoving Average: 0.039\n",
      "Episodes 0230-0240\tMax Reward: 0.100\tMoving Average: 0.040\n",
      "Episodes 0240-0250\tMax Reward: 0.100\tMoving Average: 0.038\n",
      "Episodes 0250-0260\tMax Reward: 0.200\tMoving Average: 0.039\n",
      "Episodes 0260-0270\tMax Reward: 0.200\tMoving Average: 0.039\n",
      "Episodes 0270-0280\tMax Reward: 0.100\tMoving Average: 0.039\n",
      "Episodes 0280-0290\tMax Reward: 0.200\tMoving Average: 0.038\n",
      "Episodes 0290-0300\tMax Reward: 0.300\tMoving Average: 0.045\n",
      "Episodes 0300-0310\tMax Reward: 0.300\tMoving Average: 0.050\n",
      "Episodes 0310-0320\tMax Reward: 0.300\tMoving Average: 0.049\n",
      "Episodes 0320-0330\tMax Reward: 0.200\tMoving Average: 0.047\n",
      "Episodes 0330-0340\tMax Reward: 0.300\tMoving Average: 0.053\n",
      "Episodes 0340-0350\tMax Reward: 0.100\tMoving Average: 0.054\n",
      "New best score found on episode 352; score = 0.700\n",
      "Episodes 0350-0360\tMax Reward: 0.700\tMoving Average: 0.059\n",
      "Episodes 0360-0370\tMax Reward: 0.200\tMoving Average: 0.063\n",
      "Episodes 0370-0380\tMax Reward: 0.200\tMoving Average: 0.066\n",
      "Episodes 0380-0390\tMax Reward: 0.200\tMoving Average: 0.068\n",
      "Episodes 0390-0400\tMax Reward: 0.300\tMoving Average: 0.071\n",
      "Episodes 0400-0410\tMax Reward: 0.200\tMoving Average: 0.071\n",
      "Episodes 0410-0420\tMax Reward: 0.200\tMoving Average: 0.073\n",
      "Episodes 0420-0430\tMax Reward: 0.200\tMoving Average: 0.074\n",
      "Episodes 0430-0440\tMax Reward: 0.200\tMoving Average: 0.074\n",
      "Episodes 0440-0450\tMax Reward: 0.300\tMoving Average: 0.085\n",
      "Episodes 0450-0460\tMax Reward: 0.200\tMoving Average: 0.081\n",
      "Episodes 0460-0470\tMax Reward: 0.200\tMoving Average: 0.078\n",
      "Episodes 0470-0480\tMax Reward: 0.200\tMoving Average: 0.080\n",
      "Episodes 0480-0490\tMax Reward: 0.100\tMoving Average: 0.082\n",
      "Episodes 0490-0500\tMax Reward: 0.400\tMoving Average: 0.086\n",
      "Episodes 0500-0510\tMax Reward: 0.200\tMoving Average: 0.090\n",
      "Episodes 0510-0520\tMax Reward: 0.200\tMoving Average: 0.090\n",
      "Episodes 0520-0530\tMax Reward: 0.400\tMoving Average: 0.098\n",
      "Episodes 0530-0540\tMax Reward: 0.200\tMoving Average: 0.097\n",
      "Episodes 0540-0550\tMax Reward: 0.100\tMoving Average: 0.090\n",
      "Episodes 0550-0560\tMax Reward: 0.100\tMoving Average: 0.088\n",
      "Episodes 0560-0570\tMax Reward: 0.300\tMoving Average: 0.094\n",
      "Episodes 0570-0580\tMax Reward: 0.200\tMoving Average: 0.097\n",
      "Episodes 0580-0590\tMax Reward: 0.500\tMoving Average: 0.105\n",
      "Episodes 0590-0600\tMax Reward: 0.200\tMoving Average: 0.102\n",
      "Episodes 0600-0610\tMax Reward: 0.400\tMoving Average: 0.102\n",
      "Episodes 0610-0620\tMax Reward: 0.200\tMoving Average: 0.107\n",
      "Episodes 0620-0630\tMax Reward: 0.200\tMoving Average: 0.106\n",
      "Episodes 0630-0640\tMax Reward: 0.200\tMoving Average: 0.110\n",
      "Episodes 0640-0650\tMax Reward: 0.400\tMoving Average: 0.118\n",
      "Episodes 0650-0660\tMax Reward: 0.300\tMoving Average: 0.126\n",
      "Episodes 0660-0670\tMax Reward: 0.400\tMoving Average: 0.129\n",
      "Episodes 0670-0680\tMax Reward: 0.200\tMoving Average: 0.127\n",
      "Episodes 0680-0690\tMax Reward: 0.200\tMoving Average: 0.122\n",
      "Episodes 0690-0700\tMax Reward: 0.300\tMoving Average: 0.122\n",
      "Episodes 0700-0710\tMax Reward: 0.700\tMoving Average: 0.129\n",
      "Episodes 0710-0720\tMax Reward: 0.300\tMoving Average: 0.135\n",
      "Episodes 0720-0730\tMax Reward: 0.500\tMoving Average: 0.145\n",
      "Episodes 0730-0740\tMax Reward: 0.200\tMoving Average: 0.143\n",
      "Episodes 0740-0750\tMax Reward: 0.300\tMoving Average: 0.141\n",
      "Episodes 0750-0760\tMax Reward: 0.300\tMoving Average: 0.141\n",
      "Episodes 0760-0770\tMax Reward: 0.400\tMoving Average: 0.141\n",
      "Episodes 0770-0780\tMax Reward: 0.300\tMoving Average: 0.142\n",
      "Episodes 0780-0790\tMax Reward: 0.300\tMoving Average: 0.143\n",
      "Episodes 0790-0800\tMax Reward: 0.200\tMoving Average: 0.145\n",
      "Episodes 0800-0810\tMax Reward: 0.200\tMoving Average: 0.140\n",
      "Episodes 0810-0820\tMax Reward: 0.300\tMoving Average: 0.138\n",
      "Episodes 0820-0830\tMax Reward: 0.400\tMoving Average: 0.131\n",
      "Episodes 0830-0840\tMax Reward: 0.300\tMoving Average: 0.137\n",
      "Episodes 0840-0850\tMax Reward: 0.300\tMoving Average: 0.142\n",
      "Episodes 0850-0860\tMax Reward: 0.300\tMoving Average: 0.144\n",
      "Episodes 0860-0870\tMax Reward: 0.300\tMoving Average: 0.145\n",
      "Episodes 0870-0880\tMax Reward: 0.400\tMoving Average: 0.149\n",
      "Episodes 0880-0890\tMax Reward: 0.300\tMoving Average: 0.151\n",
      "Episodes 0890-0900\tMax Reward: 0.300\tMoving Average: 0.148\n",
      "Episodes 0900-0910\tMax Reward: 0.300\tMoving Average: 0.142\n",
      "Episodes 0910-0920\tMax Reward: 0.300\tMoving Average: 0.139\n",
      "Episodes 0920-0930\tMax Reward: 0.200\tMoving Average: 0.137\n",
      "Episodes 0930-0940\tMax Reward: 0.300\tMoving Average: 0.134\n",
      "Episodes 0940-0950\tMax Reward: 0.300\tMoving Average: 0.129\n",
      "Episodes 0950-0960\tMax Reward: 0.300\tMoving Average: 0.126\n",
      "Episodes 0960-0970\tMax Reward: 0.200\tMoving Average: 0.122\n",
      "Episodes 0970-0980\tMax Reward: 0.400\tMoving Average: 0.126\n",
      "Episodes 0980-0990\tMax Reward: 0.500\tMoving Average: 0.129\n",
      "Episodes 0990-1000\tMax Reward: 0.600\tMoving Average: 0.133\n",
      "Episodes 1000-1010\tMax Reward: 0.200\tMoving Average: 0.139\n",
      "Episodes 1010-1020\tMax Reward: 0.300\tMoving Average: 0.142\n",
      "Episodes 1020-1030\tMax Reward: 0.300\tMoving Average: 0.140\n",
      "Episodes 1030-1040\tMax Reward: 0.400\tMoving Average: 0.149\n",
      "Episodes 1040-1050\tMax Reward: 0.300\tMoving Average: 0.152\n",
      "Episodes 1050-1060\tMax Reward: 0.400\tMoving Average: 0.152\n",
      "Episodes 1060-1070\tMax Reward: 0.600\tMoving Average: 0.160\n",
      "Episodes 1070-1080\tMax Reward: 0.500\tMoving Average: 0.163\n",
      "Episodes 1080-1090\tMax Reward: 0.500\tMoving Average: 0.166\n",
      "Episodes 1090-1100\tMax Reward: 0.300\tMoving Average: 0.163\n",
      "Episodes 1100-1110\tMax Reward: 0.200\tMoving Average: 0.163\n",
      "Episodes 1110-1120\tMax Reward: 0.600\tMoving Average: 0.177\n",
      "Episodes 1120-1130\tMax Reward: 0.500\tMoving Average: 0.186\n",
      "Episodes 1130-1140\tMax Reward: 0.300\tMoving Average: 0.177\n",
      "Episodes 1140-1150\tMax Reward: 0.400\tMoving Average: 0.178\n",
      "Episodes 1150-1160\tMax Reward: 0.200\tMoving Average: 0.177\n",
      "Episodes 1160-1170\tMax Reward: 0.300\tMoving Average: 0.180\n",
      "Episodes 1170-1180\tMax Reward: 0.400\tMoving Average: 0.179\n",
      "Episodes 1180-1190\tMax Reward: 0.400\tMoving Average: 0.176\n",
      "Episodes 1190-1200\tMax Reward: 0.500\tMoving Average: 0.182\n",
      "Episodes 1200-1210\tMax Reward: 0.300\tMoving Average: 0.182\n",
      "Episodes 1210-1220\tMax Reward: 0.100\tMoving Average: 0.158\n",
      "Episodes 1220-1230\tMax Reward: 0.200\tMoving Average: 0.149\n",
      "Episodes 1230-1240\tMax Reward: 0.300\tMoving Average: 0.150\n",
      "Episodes 1240-1250\tMax Reward: 0.600\tMoving Average: 0.153\n",
      "Episodes 1250-1260\tMax Reward: 0.500\tMoving Average: 0.163\n",
      "Episodes 1260-1270\tMax Reward: 0.600\tMoving Average: 0.171\n",
      "Episodes 1270-1280\tMax Reward: 0.400\tMoving Average: 0.172\n",
      "Episodes 1280-1290\tMax Reward: 0.500\tMoving Average: 0.177\n",
      "Episodes 1290-1300\tMax Reward: 0.500\tMoving Average: 0.182\n",
      "Episodes 1300-1310\tMax Reward: 0.500\tMoving Average: 0.189\n",
      "Episodes 1310-1320\tMax Reward: 0.700\tMoving Average: 0.207\n",
      "Episodes 1320-1330\tMax Reward: 0.400\tMoving Average: 0.216\n",
      "Episodes 1330-1340\tMax Reward: 0.400\tMoving Average: 0.223\n",
      "Episodes 1340-1350\tMax Reward: 0.300\tMoving Average: 0.225\n",
      "Episodes 1350-1360\tMax Reward: 0.600\tMoving Average: 0.236\n"
     ]
    },
    {
     "name": "stdout",
     "output_type": "stream",
     "text": [
      "New best score found on episode 1361; score = 0.800\n",
      "New best score found on episode 1368; score = 1.000\n",
      "Episodes 1360-1370\tMax Reward: 1.000\tMoving Average: 0.237\n",
      "Episodes 1370-1380\tMax Reward: 0.700\tMoving Average: 0.246\n",
      "Episodes 1380-1390\tMax Reward: 0.600\tMoving Average: 0.249\n",
      "Episodes 1390-1400\tMax Reward: 0.800\tMoving Average: 0.249\n",
      "Episodes 1400-1410\tMax Reward: 0.900\tMoving Average: 0.256\n",
      "Episodes 1410-1420\tMax Reward: 0.400\tMoving Average: 0.260\n",
      "Episodes 1420-1430\tMax Reward: 1.000\tMoving Average: 0.282\n",
      "Episodes 1430-1440\tMax Reward: 0.900\tMoving Average: 0.299\n",
      "Episodes 1440-1450\tMax Reward: 0.700\tMoving Average: 0.310\n",
      "New best score found on episode 1454; score = 1.200\n",
      "Episodes 1450-1460\tMax Reward: 1.200\tMoving Average: 0.315\n",
      "Episodes 1460-1470\tMax Reward: 0.600\tMoving Average: 0.312\n",
      "Episodes 1470-1480\tMax Reward: 0.900\tMoving Average: 0.309\n",
      "Episodes 1480-1490\tMax Reward: 0.700\tMoving Average: 0.314\n",
      "Episodes 1490-1500\tMax Reward: 0.490\tMoving Average: 0.317\n",
      "Episodes 1500-1510\tMax Reward: 0.600\tMoving Average: 0.325\n",
      "Episodes 1510-1520\tMax Reward: 0.700\tMoving Average: 0.328\n",
      "Episodes 1520-1530\tMax Reward: 1.100\tMoving Average: 0.326\n",
      "New best score found on episode 1536; score = 2.000\n",
      "Episodes 1530-1540\tMax Reward: 2.000\tMoving Average: 0.328\n",
      "Episodes 1540-1550\tMax Reward: 1.100\tMoving Average: 0.341\n",
      "Episodes 1550-1560\tMax Reward: 1.200\tMoving Average: 0.344\n",
      "Episodes 1560-1570\tMax Reward: 0.600\tMoving Average: 0.350\n",
      "Episodes 1570-1580\tMax Reward: 0.900\tMoving Average: 0.368\n",
      "Episodes 1580-1590\tMax Reward: 1.500\tMoving Average: 0.380\n",
      "Episodes 1590-1600\tMax Reward: 0.900\tMoving Average: 0.397\n",
      "Episodes 1600-1610\tMax Reward: 1.100\tMoving Average: 0.416\n",
      "Episodes 1610-1620\tMax Reward: 1.100\tMoving Average: 0.450\n",
      "Episodes 1620-1630\tMax Reward: 0.700\tMoving Average: 0.449\n",
      "Episodes 1630-1640\tMax Reward: 0.700\tMoving Average: 0.448\n",
      "Episodes 1640-1650\tMax Reward: 1.000\tMoving Average: 0.463\n",
      "Episodes 1650-1660\tMax Reward: 1.100\tMoving Average: 0.477\n",
      "New best score found on episode 1666; score = 3.300\n",
      "<<< Environment solved in 1566 episodes!                 \n",
      "<<< Moving Average: 0.512 over past 100 episodes\n"
     ]
    }
   ],
   "source": [
    "def maddpg():\n",
    "    # initialize scores\n",
    "    scores_window = deque(maxlen=WINDOW_SIZE)\n",
    "    scores_all = []\n",
    "    moving_average = []\n",
    "    best_score = -np.inf\n",
    "    best_episode = 0\n",
    "    env_solved = False\n",
    "\n",
    "    for i_episode in range(1, MAX_EPISODES + 1):\n",
    "        env_info = env.reset(train_mode=True)[brain_name]  # reset the environment\n",
    "        states = np.reshape(env_info.vector_observations, (1, num_agents * state_size))  # flatten states\n",
    "        agents.reset()\n",
    "        scores = np.zeros(num_agents)\n",
    "        while True:\n",
    "            actions = agents.act(states, ADD_NOISE)  # choose agent actions and flatten them\n",
    "            env_info = env.step(actions)[brain_name]  # send both agents' actions to the environment\n",
    "            next_states = np.reshape(env_info.vector_observations, (1, num_agents * state_size))  # flatten next states\n",
    "            rewards = env_info.rewards  # get rewards\n",
    "            done = env_info.local_done  # see if the episode finished\n",
    "            agents.step(states, actions, rewards, next_states, done)  # perform the learning step\n",
    "            scores += np.max(rewards)  # update scores with best reward\n",
    "            states = next_states  # roll over states to next time step\n",
    "            if np.any(done):  # exit loop if episode finished\n",
    "                break\n",
    "\n",
    "        ep_best_score = np.max(scores)  # record best score for episode\n",
    "        scores_window.append(ep_best_score)  # add score to recent scores\n",
    "        scores_all.append(ep_best_score)  # add score to history of all scores\n",
    "        moving_average.append(np.mean(scores_window))  # recalculate moving average\n",
    "\n",
    "        # save best score\n",
    "        if ep_best_score > best_score and ep_best_score > 0:\n",
    "            best_score = ep_best_score\n",
    "            best_episode = i_episode\n",
    "            print('New best score found on episode {:d}; score = {:.3f}'.format(best_episode, best_score))\n",
    "\n",
    "        # print results\n",
    "        if i_episode % PRINT_EVERY == 0:\n",
    "            print('Episodes {:0>4d}-{:0>4d}\\tMax Reward: {:.3f}\\tMoving Average: {:.3f}'.format(\n",
    "                i_episode - PRINT_EVERY, i_episode, np.max(scores_all[-PRINT_EVERY:]), moving_average[-1]))\n",
    "            agents.save()\n",
    "\n",
    "        # determine if environment is solved and keep best performing models\n",
    "        if moving_average[-1] >= SOLVED_SCORE:\n",
    "            if not env_solved:\n",
    "                print('<<< Environment solved in {:d} episodes! \\\n",
    "                \\n<<< Moving Average: {:.3f} over past {:d} episodes'.format(\n",
    "                    i_episode - WINDOW_SIZE, moving_average[-1], WINDOW_SIZE))\n",
    "                env_solved = True\n",
    "\n",
    "                # save weights\n",
    "                agents.save()\n",
    "                break\n",
    "\n",
    "            elif ep_best_score >= best_score:\n",
    "                print('<<< Best episode so far!\\\n",
    "                \\nEpisode {:0>4d}\\tMax Reward: {:.3f}\\tMoving Average: {:.3f}'.format(\n",
    "                    i_episode, ep_best_score, moving_average[-1]))\n",
    "\n",
    "                # save weights\n",
    "                agents.save()\n",
    "\n",
    "            # stop training if model stops improving\n",
    "            elif (i_episode - best_episode) >= STOP_IF_NO_IMPROVEMENT_OVER_EPISODES:\n",
    "                print('<-- Training stopped. Best score not matched or exceeded for',\n",
    "                      STOP_IF_NO_IMPROVEMENT_OVER_EPISODES, 'episodes')\n",
    "                break\n",
    "            else:\n",
    "                continue\n",
    "\n",
    "    return scores_all, moving_average\n",
    "\n",
    "\n",
    "scores, avgs = maddpg()"
   ]
  },
  {
   "cell_type": "markdown",
   "metadata": {},
   "source": [
    "When finished, you can close the environment."
   ]
  },
  {
   "cell_type": "code",
   "execution_count": 8,
   "metadata": {},
   "outputs": [
    {
     "data": {
      "image/png": "[encoded data removed]",
      "text/plain": [
       "<Figure size 432x288 with 1 Axes>"
      ]
     },
     "metadata": {
      "needs_background": "light"
     },
     "output_type": "display_data"
    }
   ],
   "source": [
    "plt.figure()\n",
    "plt.plot(scores, label='MADDPG')\n",
    "plt.plot(avgs, c='r', label='moving avg')\n",
    "plt.ylabel('Score')\n",
    "plt.xlabel('Episode')\n",
    "plt.legend(loc='upper left')\n",
    "plt.show()\n",
    "plt.show()\n",
    "env.close()"
   ]
  },
  {
   "cell_type": "code",
   "execution_count": null,
   "metadata": {},
   "outputs": [],
   "source": []
  },
  {
   "cell_type": "markdown",
   "metadata": {},
   "source": [
    "### 4. It's Your Turn!\n",
    "\n",
    "Now it's your turn to train your own agent to solve the environment!  When training the environment, set `train_mode=True`, so that the line for resetting the environment looks like the following:\n",
    "```python\n",
    "env_info = env.reset(train_mode=True)[brain_name]\n",
    "```"
   ]
  }
 ],
 "metadata": {
  "kernelspec": {
   "display_name": "drlnd",
   "language": "python",
   "name": "drlnd"
  },
  "language_info": {
   "codemirror_mode": {
    "name": "ipython",
    "version": 3
   },
   "file_extension": ".py",
   "mimetype": "text/x-python",
   "name": "python",
   "nbconvert_exporter": "python",
   "pygments_lexer": "ipython3",
   "version": "3.6.10"
  }
 },
 "nbformat": 4,
 "nbformat_minor": 2
}
